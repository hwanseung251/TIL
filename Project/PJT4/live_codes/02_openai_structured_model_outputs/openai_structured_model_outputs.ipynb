{
  "cells": [
    {
      "cell_type": "markdown",
      "metadata": {
        "id": "ibxAF_lFTSPR"
      },
      "source": [
        "# OpenAI API를 활용한 데이터 정제: 텍스트에서 구조화된 데이터까지"
      ]
    },
    {
      "cell_type": "markdown",
      "metadata": {
        "id": "QSdqFCxn2mmH"
      },
      "source": [
        "## 1. 기본 API 호출"
      ]
    },
    {
      "cell_type": "markdown",
      "metadata": {
        "id": "4Ooype5A2fM6"
      },
      "source": [
        "### 1.1 라이브러리 및 객체 초기화"
      ]
    },
    {
      "cell_type": "code",
      "execution_count": null,
      "metadata": {
        "id": "8x8lQaTDs9Sv"
      },
      "outputs": [],
      "source": [
        "OPENAI_API_KEY = \"mykey\""
      ]
    },
    {
      "cell_type": "code",
      "execution_count": 3,
      "metadata": {},
      "outputs": [
        {
          "name": "stdout",
          "output_type": "stream",
          "text": [
            "Collecting openai\n",
            "  Downloading openai-1.109.1-py3-none-any.whl.metadata (29 kB)\n",
            "Requirement already satisfied: anyio<5,>=3.5.0 in c:\\users\\ssafy\\appdata\\local\\programs\\python\\python311\\lib\\site-packages (from openai) (4.9.0)\n",
            "Collecting distro<2,>=1.7.0 (from openai)\n",
            "  Using cached distro-1.9.0-py3-none-any.whl.metadata (6.8 kB)\n",
            "Requirement already satisfied: httpx<1,>=0.23.0 in c:\\users\\ssafy\\appdata\\local\\programs\\python\\python311\\lib\\site-packages (from openai) (0.28.1)\n",
            "Collecting jiter<1,>=0.4.0 (from openai)\n",
            "  Using cached jiter-0.11.0-cp311-cp311-win_amd64.whl.metadata (5.3 kB)\n",
            "Collecting pydantic<3,>=1.9.0 (from openai)\n",
            "  Using cached pydantic-2.11.9-py3-none-any.whl.metadata (68 kB)\n",
            "Requirement already satisfied: sniffio in c:\\users\\ssafy\\appdata\\local\\programs\\python\\python311\\lib\\site-packages (from openai) (1.3.1)\n",
            "Collecting tqdm>4 (from openai)\n",
            "  Using cached tqdm-4.67.1-py3-none-any.whl.metadata (57 kB)\n",
            "Requirement already satisfied: typing-extensions<5,>=4.11 in c:\\users\\ssafy\\appdata\\local\\programs\\python\\python311\\lib\\site-packages (from openai) (4.15.0)\n",
            "Requirement already satisfied: idna>=2.8 in c:\\users\\ssafy\\appdata\\local\\programs\\python\\python311\\lib\\site-packages (from anyio<5,>=3.5.0->openai) (3.10)\n",
            "Requirement already satisfied: certifi in c:\\users\\ssafy\\appdata\\local\\programs\\python\\python311\\lib\\site-packages (from httpx<1,>=0.23.0->openai) (2025.7.14)\n",
            "Requirement already satisfied: httpcore==1.* in c:\\users\\ssafy\\appdata\\local\\programs\\python\\python311\\lib\\site-packages (from httpx<1,>=0.23.0->openai) (1.0.9)\n",
            "Requirement already satisfied: h11>=0.16 in c:\\users\\ssafy\\appdata\\local\\programs\\python\\python311\\lib\\site-packages (from httpcore==1.*->httpx<1,>=0.23.0->openai) (0.16.0)\n",
            "Collecting annotated-types>=0.6.0 (from pydantic<3,>=1.9.0->openai)\n",
            "  Using cached annotated_types-0.7.0-py3-none-any.whl.metadata (15 kB)\n",
            "Collecting pydantic-core==2.33.2 (from pydantic<3,>=1.9.0->openai)\n",
            "  Using cached pydantic_core-2.33.2-cp311-cp311-win_amd64.whl.metadata (6.9 kB)\n",
            "Collecting typing-inspection>=0.4.0 (from pydantic<3,>=1.9.0->openai)\n",
            "  Using cached typing_inspection-0.4.1-py3-none-any.whl.metadata (2.6 kB)\n",
            "Requirement already satisfied: colorama in c:\\users\\ssafy\\appdata\\roaming\\python\\python311\\site-packages (from tqdm>4->openai) (0.4.6)\n",
            "Downloading openai-1.109.1-py3-none-any.whl (948 kB)\n",
            "   ---------------------------------------- 0.0/948.6 kB ? eta -:--:--\n",
            "   ---------------------------------------- 10.2/948.6 kB ? eta -:--:--\n",
            "   - ------------------------------------- 41.0/948.6 kB 388.9 kB/s eta 0:00:03\n",
            "   -------- ------------------------------- 204.8/948.6 kB 1.6 MB/s eta 0:00:01\n",
            "   ---------------------------------------- 948.6/948.6 kB 6.0 MB/s eta 0:00:00\n",
            "Using cached distro-1.9.0-py3-none-any.whl (20 kB)\n",
            "Using cached jiter-0.11.0-cp311-cp311-win_amd64.whl (204 kB)\n",
            "Using cached pydantic-2.11.9-py3-none-any.whl (444 kB)\n",
            "Using cached pydantic_core-2.33.2-cp311-cp311-win_amd64.whl (2.0 MB)\n",
            "Using cached tqdm-4.67.1-py3-none-any.whl (78 kB)\n",
            "Using cached annotated_types-0.7.0-py3-none-any.whl (13 kB)\n",
            "Using cached typing_inspection-0.4.1-py3-none-any.whl (14 kB)\n",
            "Installing collected packages: typing-inspection, tqdm, pydantic-core, jiter, distro, annotated-types, pydantic, openai\n",
            "Successfully installed annotated-types-0.7.0 distro-1.9.0 jiter-0.11.0 openai-1.109.1 pydantic-2.11.9 pydantic-core-2.33.2 tqdm-4.67.1 typing-inspection-0.4.1\n"
          ]
        },
        {
          "name": "stderr",
          "output_type": "stream",
          "text": [
            "\n",
            "[notice] A new release of pip is available: 24.0 -> 25.2\n",
            "[notice] To update, run: python.exe -m pip install --upgrade pip\n"
          ]
        }
      ],
      "source": [
        "!pip install openai"
      ]
    },
    {
      "cell_type": "code",
      "execution_count": 7,
      "metadata": {
        "id": "9Hw8s8LQtCc-"
      },
      "outputs": [],
      "source": [
        "from openai import OpenAI\n",
        "client = OpenAI(api_key=OPENAI_API_KEY)"
      ]
    },
    {
      "cell_type": "markdown",
      "metadata": {},
      "source": [
        "### 1.2 OpenAI API 호출\n"
      ]
    },
    {
      "cell_type": "code",
      "execution_count": null,
      "metadata": {},
      "outputs": [],
      "source": [
        "# 기본 API 호출 (주석 버전)\n",
        "# OpenAI의 Responses API를 호출하여 응답을 생성합니다.\n",
        "response = client.responses.create(\n",
        "    # --- 사용할 AI 모델 지정 ---\n",
        "    model=\"gpt-5-nano\",\n",
        "    # --- 모델에 전달할 입력 데이터 ---\n",
        "    # 'input'은 시스템(system)과 사용자(user)의 역할을 담는 리스트 형태입니다.\n",
        "    # 이를 통해 모델에게 대화의 맥락과 역할을 부여할 수 있습니다.\n",
        "    input=[\n",
        "        # 'system' 역할은 모델에게 기본적인 지침이나 역할을 부여합니다.\n",
        "        {\n",
        "            \"role\": \"system\",\n",
        "            \"content\": [\n",
        "                {\n",
        "                    \"type\": \"input_text\",\n",
        "                    # 모델이 수행할 작업에 대한 전반적인 지시사항을 전달합니다.\n",
        "                    # 예: \"너는 비정형 데이터를 CSV 형식으로 변환하는 역할을 맡았어.\"\n",
        "                    \"text\": \"You will be provided with unstructured data, and your task is to parse it into CSV format.\",\n",
        "                }\n",
        "            ],\n",
        "        },\n",
        "        # 'user' 역할은 모델이 처리해야 할 실제 데이터나 질문을 전달합니다.\n",
        "        {\n",
        "            \"role\": \"user\",\n",
        "            \"content\": [\n",
        "                {\n",
        "                    \"type\": \"input_text\",\n",
        "                    # 모델이 CSV로 변환해야 할 원본 텍스트 데이터입니다.\n",
        "                    \"text\": \"There are many fruits that were found on the recently discovered planet Goocrux. There are neoskizzles that grow there, which are purple and taste like candy. There are also loheckles, which are a grayish blue fruit and are very tart, a little bit like a lemon. Pounits are a bright green color and are more savory than sweet. There are also plenty of loopnovas which are a neon pink flavor and taste like cotton candy. Finally, there are fruits called glowls, which have a very sour and bitter taste which is acidic and caustic, and a pale orange tinge to them.\",\n",
        "                }\n",
        "            ],\n",
        "        },\n",
        "    ],\n",
        ")\n"
      ]
    },
    {
      "cell_type": "code",
      "execution_count": 8,
      "metadata": {
        "id": "hSbqSI7BtIyY"
      },
      "outputs": [],
      "source": [
        "# 기본 API 호출 (주석 제거 버전)\n",
        "response = client.responses.create(\n",
        "    model=\"gpt-5-nano\",\n",
        "    input=[\n",
        "        {\n",
        "            \"role\": \"system\",\n",
        "            \"content\": [\n",
        "                {\n",
        "                    \"type\": \"input_text\",\n",
        "                    \"text\": \"You will be provided with unstructured data, and your task is to parse it into CSV format.\",\n",
        "                }\n",
        "            ],\n",
        "        },\n",
        "        {\n",
        "            \"role\": \"user\",\n",
        "            \"content\": [\n",
        "                {\n",
        "                    \"type\": \"input_text\",\n",
        "                    \"text\": \"There are many fruits that were found on the recently discovered planet Goocrux. There are neoskizzles that grow there, which are purple and taste like candy. There are also loheckles, which are a grayish blue fruit and are very tart, a little bit like a lemon. Pounits are a bright green color and are more savory than sweet. There are also plenty of loopnovas which are a neon pink flavor and taste like cotton candy. Finally, there are fruits called glowls, which have a very sour and bitter taste which is acidic and caustic, and a pale orange tinge to them.\",\n",
        "                }\n",
        "            ],\n",
        "        },\n",
        "    ],\n",
        ")\n"
      ]
    },
    {
      "cell_type": "code",
      "execution_count": 9,
      "metadata": {
        "id": "DZPCGo993YU7"
      },
      "outputs": [
        {
          "name": "stdout",
          "output_type": "stream",
          "text": [
            "Fruit,Color,TasteDescription\n",
            "neoskizzles,purple,taste like candy\n",
            "loheckles,grayish blue,tart; like a lemon\n",
            "pounits,bright green,savory rather than sweet\n",
            "loopnovas,neon pink,taste like cotton candy\n",
            "glowls,pale orange tinge,very sour and bitter; acidic and caustic\n"
          ]
        }
      ],
      "source": [
        "# 응답 출력\n",
        "print(response.output_text)"
      ]
    },
    {
      "cell_type": "markdown",
      "metadata": {
        "id": "V3WMygB-2vQJ"
      },
      "source": [
        "## 2. 정형 데이터 처리: CSV 파싱"
      ]
    },
    {
      "cell_type": "code",
      "execution_count": 10,
      "metadata": {
        "id": "pmKH5C_juENT"
      },
      "outputs": [],
      "source": [
        "# 시스템 프롬프트 커스터마이징\n",
        "system_prompt = \"\"\"\n",
        "당신은 구조화 되지 않은 데이터를 CSV 형식으로 변환하는 AI입니다\n",
        "사용자가 과일에 대한 데이터를 제공하면, 과일 이름만 CSV 형식으로 추출하세요.\n",
        "\"\"\""
      ]
    },
    {
      "cell_type": "code",
      "execution_count": 11,
      "metadata": {},
      "outputs": [],
      "source": [
        "# 유저 프롬프트 커스터마이징\n",
        "user_prompt = \"\"\"\n",
        "한국 사람들이 좋아하는 과일은 사과, 배, 귤, 포도, 수박, 참외, 딸기, 감, 복숭아 같은 것들이 있어요. \n",
        "계절마다 선호하는 과일이 좀 다른데, 여름엔 수박이나 참외를 많이 먹고, 겨울엔 귤이 인기 많죠. \n",
        "딸기는 봄철에 특히 많이 찾고, 가을엔 감이나 배를 많이 먹어요. \n",
        "포도도 여름에서 가을 사이에 인기가 많고, 복숭아도 달콤하고 부드러워서 좋아하는 사람이 많아요. - 출처 : 00뉴스\n",
        "\"\"\""
      ]
    },
    {
      "cell_type": "code",
      "execution_count": 13,
      "metadata": {
        "id": "Pr36-XwfvPAw"
      },
      "outputs": [],
      "source": [
        "# 기본 API 호출 수정\n",
        "response = client.responses.create(\n",
        "    model=\"gpt-5-nano\",\n",
        "    input=[\n",
        "        {\n",
        "            \"role\": \"system\",\n",
        "            \"content\": [\n",
        "                {\n",
        "                    \"type\": \"input_text\",\n",
        "                    \"text\": system_prompt,\n",
        "                }\n",
        "            ],\n",
        "        },\n",
        "        {\n",
        "            \"role\": \"user\",\n",
        "            \"content\": [\n",
        "                {\n",
        "                    \"type\": \"input_text\",\n",
        "                    \"text\": user_prompt,\n",
        "                }\n",
        "            ],\n",
        "        },\n",
        "    ],\n",
        ")"
      ]
    },
    {
      "cell_type": "code",
      "execution_count": 14,
      "metadata": {
        "id": "wrCSq8fU3gkf"
      },
      "outputs": [
        {
          "name": "stdout",
          "output_type": "stream",
          "text": [
            "사과,배,귤,포도,수박,참외,딸기,감,복숭아\n"
          ]
        }
      ],
      "source": [
        "# 응답 출력\n",
        "print(response.output_text)"
      ]
    },
    {
      "cell_type": "markdown",
      "metadata": {
        "id": "tPj6OFYG3EgD"
      },
      "source": [
        "## 3. 계층형 데이터 처리: XML 파싱"
      ]
    },
    {
      "cell_type": "code",
      "execution_count": 15,
      "metadata": {
        "id": "zI_Kxxjl26pz"
      },
      "outputs": [],
      "source": [
        "# 시스템 프롬프트 커스터마이징\n",
        "system_prompt = \"\"\"\n",
        "당신은 구조화 되지 않은 데이터를 CSV 형식으로 변환하는 AI입니다\n",
        "사용자가 과일에 대한 데이터를 제공하면, 과일 이름만 XML 형식으로 추출하세요.\n",
        "\"\"\""
      ]
    },
    {
      "cell_type": "code",
      "execution_count": 16,
      "metadata": {},
      "outputs": [],
      "source": [
        "response = client.responses.create(\n",
        "    model=\"gpt-5-nano\",\n",
        "    input=[\n",
        "        {\n",
        "            \"role\": \"system\",\n",
        "            \"content\": [\n",
        "                {\n",
        "                    \"type\": \"input_text\",\n",
        "                    \"text\": system_prompt,\n",
        "                }\n",
        "            ],\n",
        "        },\n",
        "        {\n",
        "            \"role\": \"user\",\n",
        "            \"content\": [\n",
        "                {\n",
        "                    \"type\": \"input_text\",\n",
        "                    \"text\": user_prompt,\n",
        "                }\n",
        "            ],\n",
        "        },\n",
        "    ],\n",
        ")"
      ]
    },
    {
      "cell_type": "code",
      "execution_count": 17,
      "metadata": {
        "id": "w5R_nDrT3lAn"
      },
      "outputs": [
        {
          "name": "stdout",
          "output_type": "stream",
          "text": [
            "<fruits>\n",
            "  <fruit>사과</fruit>\n",
            "  <fruit>배</fruit>\n",
            "  <fruit>귤</fruit>\n",
            "  <fruit>포도</fruit>\n",
            "  <fruit>수박</fruit>\n",
            "  <fruit>참외</fruit>\n",
            "  <fruit>딸기</fruit>\n",
            "  <fruit>감</fruit>\n",
            "  <fruit>복숭아</fruit>\n",
            "</fruits>\n"
          ]
        }
      ],
      "source": [
        "# 응답 출력\n",
        "print(response.output_text)"
      ]
    },
    {
      "cell_type": "markdown",
      "metadata": {
        "id": "qAaqIut-2yjx"
      },
      "source": [
        "## 4. 신뢰할 수 있는 JSON 생성하기"
      ]
    },
    {
      "cell_type": "markdown",
      "metadata": {
        "id": "-374bZHk4Ivd"
      },
      "source": [
        "### 4.1 기본: 프롬프트로 JSON 형식 요청하기\n"
      ]
    },
    {
      "cell_type": "code",
      "execution_count": 18,
      "metadata": {
        "id": "kV0tTk5hwPPz"
      },
      "outputs": [],
      "source": [
        "# 시스템 프롬프트 수정\n",
        "system_prompt = \"\"\"\n",
        "당신은 구조화 되지 않은 데이터를 JSON 형식으로 변환하는 AI입니다.\n",
        "사용자가 과일에 대한 설명을 제공하면, 적잘한 키와 함께 과일 이름만 JSON 형식으로 추출하세요.\n",
        "답변은 반드시 '{'로 시작하여 '}'로 끝나야 됩니다.\n",
        "\"\"\""
      ]
    },
    {
      "cell_type": "code",
      "execution_count": 19,
      "metadata": {},
      "outputs": [],
      "source": [
        "response = client.responses.create(\n",
        "    model=\"gpt-5-nano\",\n",
        "    input=[\n",
        "        {\n",
        "            \"role\": \"system\",\n",
        "            \"content\": [\n",
        "                {\n",
        "                    \"type\": \"input_text\",\n",
        "                    \"text\": system_prompt,\n",
        "                }\n",
        "            ],\n",
        "        },\n",
        "        {\n",
        "            \"role\": \"user\",\n",
        "            \"content\": [\n",
        "                {\n",
        "                    \"type\": \"input_text\",\n",
        "                    \"text\": user_prompt,\n",
        "                }\n",
        "            ],\n",
        "        },\n",
        "    ],\n",
        ")"
      ]
    },
    {
      "cell_type": "code",
      "execution_count": 20,
      "metadata": {
        "id": "o48yFBaF3qfZ"
      },
      "outputs": [
        {
          "name": "stdout",
          "output_type": "stream",
          "text": [
            "{\n",
            "  \"사과\": {\"season\": null},\n",
            "  \"배\": {\"season\": [\"가을\"]},\n",
            "  \"귤\": {\"season\": [\"겨울\"]},\n",
            "  \"포도\": {\"season\": [\"여름\", \"가을\"]},\n",
            "  \"수박\": {\"season\": [\"여름\"]},\n",
            "  \"참외\": {\"season\": [\"여름\"]},\n",
            "  \"딸기\": {\"season\": [\"봄\"]},\n",
            "  \"감\": {\"season\": [\"가을\"]},\n",
            "  \"복숭아\": {\"season\": null}\n",
            "}\n"
          ]
        }
      ],
      "source": [
        "# 응답 출력\n",
        "print(response.output_text)"
      ]
    },
    {
      "cell_type": "code",
      "execution_count": null,
      "metadata": {
        "id": "0YRHUGJ83yxn"
      },
      "outputs": [
        {
          "name": "stdout",
          "output_type": "stream",
          "text": [
            "{'사과': {'season': None}, '배': {'season': ['가을']}, '귤': {'season': ['겨울']}, '포도': {'season': ['여름', '가을']}, '수박': {'season': ['여름']}, '참외': {'season': ['여름']}, '딸기': {'season': ['봄']}, '감': {'season': ['가을']}, '복숭아': {'season': None}}\n",
            "<class 'dict'>\n"
          ]
        }
      ],
      "source": [
        "# json 받으면 그냥 못쓰기 때문에 파싱해서 쓰는것. 알고있어야함 \n",
        "# 역으로 하는건 dumps.\n",
        "# JSON 형식의 문자열을 파이썬 객체로 변환\n",
        "# json => dict\n",
        "import json\n",
        "\n",
        "parsed_data = json.loads(response.output_text)\n",
        "print(parsed_data)\n",
        "print(type(parsed_data))"
      ]
    },
    {
      "cell_type": "code",
      "execution_count": 24,
      "metadata": {
        "id": "gOJ7U6MXcA1U"
      },
      "outputs": [
        {
          "name": "stdout",
          "output_type": "stream",
          "text": [
            "{\n",
            "    \"사과\": {\n",
            "        \"season\": null\n",
            "    },\n",
            "    \"배\": {\n",
            "        \"season\": [\n",
            "            \"가을\"\n",
            "        ]\n",
            "    },\n",
            "    \"귤\": {\n",
            "        \"season\": [\n",
            "            \"겨울\"\n",
            "        ]\n",
            "    },\n",
            "    \"포도\": {\n",
            "        \"season\": [\n",
            "            \"여름\",\n",
            "            \"가을\"\n",
            "        ]\n",
            "    },\n",
            "    \"수박\": {\n",
            "        \"season\": [\n",
            "            \"여름\"\n",
            "        ]\n",
            "    },\n",
            "    \"참외\": {\n",
            "        \"season\": [\n",
            "            \"여름\"\n",
            "        ]\n",
            "    },\n",
            "    \"딸기\": {\n",
            "        \"season\": [\n",
            "            \"봄\"\n",
            "        ]\n",
            "    },\n",
            "    \"감\": {\n",
            "        \"season\": [\n",
            "            \"가을\"\n",
            "        ]\n",
            "    },\n",
            "    \"복숭아\": {\n",
            "        \"season\": null\n",
            "    }\n",
            "}\n",
            "<class 'str'>\n"
          ]
        }
      ],
      "source": [
        "# 파이썬 객체를 JSON 형식의 문자열로 변환\n",
        "# dict => json\n",
        "\n",
        "# ensure_ascii=False는 한글과 같은 비(非)ASCII 문자가 \\uc0ac\\uacfc와 같은 유니코드 이스케이프 시퀀스로 변환되는 것을 막고, \n",
        "# 원본 문자 그대로 출력되도록 하는 역할\n",
        "json_data = json.dumps(parsed_data, indent=4, ensure_ascii=False)\n",
        "\n",
        "print(json_data)\n",
        "print(type(json_data))"
      ]
    },
    {
      "cell_type": "markdown",
      "metadata": {
        "id": "XAIJins84tN3"
      },
      "source": [
        "### 4.2 심화: 중첩된 JSON 구조 설계하기"
      ]
    },
    {
      "cell_type": "code",
      "execution_count": 25,
      "metadata": {},
      "outputs": [],
      "source": [
        "# 시스템 프롬프트 수정\n",
        "system_prompt = \"\"\"\n",
        "당신은 구조화 되지 않은 데이터를 JSON 형식으로 변환하는 AI입니다.\n",
        "사용자가 과일에 대한 설명을 제공하면, 과일 이름과 전체 과일 수, 출처를 JSON 형식으로 추출하세요.\n",
        "\"\"\""
      ]
    },
    {
      "cell_type": "code",
      "execution_count": 26,
      "metadata": {},
      "outputs": [],
      "source": [
        "response = client.responses.create(\n",
        "  model=\"gpt-5-nano\",\n",
        "  input=[\n",
        "    {\n",
        "      \"role\": \"system\",\n",
        "      \"content\": [\n",
        "        {\n",
        "          \"type\": \"input_text\",\n",
        "          \"text\": system_prompt\n",
        "        }\n",
        "      ]\n",
        "    },\n",
        "    {\n",
        "      \"role\": \"user\",\n",
        "      \"content\": [\n",
        "        {\n",
        "          \"type\": \"input_text\",\n",
        "          \"text\": user_prompt\n",
        "        }\n",
        "      ]\n",
        "    }\n",
        "  ],\n",
        ")"
      ]
    },
    {
      "cell_type": "code",
      "execution_count": 27,
      "metadata": {},
      "outputs": [
        {
          "name": "stdout",
          "output_type": "stream",
          "text": [
            "{\n",
            "  \"fruit_names\": [\"사과\",\"배\",\"귤\",\"포도\",\"수박\",\"참외\",\"딸기\",\"감\",\"복숭아\"],\n",
            "  \"total_fruit_count\": 9,\n",
            "  \"source\": \"00뉴스\"\n",
            "}\n"
          ]
        }
      ],
      "source": [
        "# 응답 출력\n",
        "print(response.output_text)"
      ]
    },
    {
      "cell_type": "markdown",
      "metadata": {},
      "source": [
        "잘하긴 했는데 중첩되진 않았네.."
      ]
    },
    {
      "cell_type": "markdown",
      "metadata": {
        "id": "Wvr78qMD4NLE"
      },
      "source": [
        "### 4.3 완성: 완벽한 JSON 출력 강제하기\n",
        "- OpenAI `구조화된 출력 (Structured Outputs)` 기능 활용\n",
        "- 모델의 응답을 우리가 원하는 JSON으로 강제하여, 예측 가능하고 안정적인 데이터를 얻어내는 OpenAI의 제공 기능\n",
        "> https://platform.openai.com/docs/guides/structured-outputs"
      ]
    },
    {
      "cell_type": "code",
      "execution_count": 28,
      "metadata": {
        "id": "apSgmJ0tdQep"
      },
      "outputs": [],
      "source": [
        "# 공식문서 스키마 붙여넣기\n",
        "from pydantic import BaseModel\n",
        "\n",
        "class CalendarEvent(BaseModel):\n",
        "    name: str\n",
        "    date: str\n",
        "    participants: list[str]"
      ]
    },
    {
      "cell_type": "markdown",
      "metadata": {},
      "source": [
        "[참고] Pydantic 모델과 타입 힌트\n",
        "1. 파이썬 타입 힌트 (Python Type Hint)\n",
        "\n",
        "  - `name: str` 와 같이 변수명 뒤에 콜론(`:`)과 타입을 붙이는 것을 **타입 힌트(Type Hint)**라고 합니다. 이는 파이썬 3.5 버전부터 도입된 표준 문법입니다.\n",
        "\n",
        "  - **역할**: 이 변수에 어떤 타입의 데이터가 들어갈 **예정인지**를 명시하여 코드의 가독성을 높이고, 개발 도구가 코드의 오류를 미리 파악할 수 있도록 돕습니다.\n",
        "\n",
        "  - `name: str`: `name` 변수에는 문자열(`str`) 타입이 와야 합니다.\n",
        "\n",
        "  - `participants: list[str]`: `participants` 변수에는 문자열(`str`)을 요소로 갖는 리스트(`list`)가 와야 합니다.\n",
        "\n",
        "2. Pydantic의 역할\n",
        "Pydantic은 바로 이 타입 힌트를 활용하여, **실제 프로그램 실행 시간에 데이터의 유효성을 검사하고 타입을 강제**하는 외부 라이브러리입니다.\n",
        "\n",
        "  - `BaseModel`을 상속받은 클래스는 다음과 같은 기능을 갖게 됩니다.\n",
        "\n",
        "  - **타입 강제**: 만약 `name`에 문자열이 아닌 숫자(`123`)를 넣으려고 하면, Pydantic이 에러를 발생시켜 잘못된 데이터가 들어오는 것을 막아줍니다.\n",
        "\n",
        "  - **데이터 유효성 검사**: \"이 필드는 반드시 이메일 형식이어야 한다\" 또는 \"이 숫자는 `0`보다 커야 한다\"와 같은 복잡한 규칙도 추가할 수 있습니다."
      ]
    },
    {
      "cell_type": "code",
      "execution_count": 29,
      "metadata": {
        "id": "6U3eAUobdU2v"
      },
      "outputs": [],
      "source": [
        "# API 코드 붙여넣기\n",
        "response = client.responses.parse(\n",
        "    model=\"gpt-5-nano\",\n",
        "    input=[\n",
        "        {\"role\": \"system\", \"content\": \"Extract the event information.\"},\n",
        "        {\n",
        "            \"role\": \"user\",\n",
        "            \"content\": \"Alice and Bob are going to a science fair on Friday.\",\n",
        "        },\n",
        "    ],\n",
        "    text_format=CalendarEvent,\n",
        ")"
      ]
    },
    {
      "cell_type": "code",
      "execution_count": 30,
      "metadata": {
        "id": "fUg7AshVdQWO"
      },
      "outputs": [
        {
          "name": "stdout",
          "output_type": "stream",
          "text": [
            "{\"name\":\"Science fair\",\"date\":\"Friday\",\"participants\":[\"Alice\",\"Bob\"]}\n"
          ]
        }
      ],
      "source": [
        "# 응답 출력\n",
        "print(response.output_text)"
      ]
    },
    {
      "cell_type": "code",
      "execution_count": 31,
      "metadata": {
        "id": "I9BuW1_V3K7M"
      },
      "outputs": [],
      "source": [
        "# 나만의 과일 정보 JSON 스키마 작성\n",
        "from typing import List\n",
        "\n",
        "# 1. 개별 과일의 구조를 정의하는 모델\n",
        "# JSON 배열 안에 있는 각 객체에 해당합니다.\n",
        "class Fruit(BaseModel):\n",
        "    \"\"\"\n",
        "    'fruit_name'이라는 키를 가지며, 그 값은 반드시 문자열(str)\n",
        "    'season'이라는 키를 가지며, 그 값은 반드시 문자열(str)\n",
        "    \"\"\"\n",
        "    fruit_name: str\n",
        "    season: str\n",
        "\n",
        "# 2. 최종 JSON 응답의 전체 구조를 정의하는 모델\n",
        "# 최상위 키 'fruits'가 Fruit 모델의 리스트를 값으로 가집니다.\n",
        "class FruitList(BaseModel):\n",
        "    \"\"\"\n",
        "    'fruits'라는 키를 가지며, 그 값은 반드시 Fruit 객체들의 리스트(List[Fruit])\n",
        "    'num_of_fruits'라는 키를 가지며, 그 값은 반드시 정수(int)\n",
        "    'ref'라는 키를 가지며, 그 값은 반드시 문자열(str)\n",
        "    \"\"\"\n",
        "    fruits: List[Fruit]\n",
        "    num_of_fruits: int\n",
        "    ref: str"
      ]
    },
    {
      "cell_type": "code",
      "execution_count": 32,
      "metadata": {},
      "outputs": [],
      "source": [
        "# 시스템 프롬프트 수정\n",
        "system_prompt = \"\"\"\n",
        "당신은 구조화 되지 않은 데이터를 구조화된 형식으로 변환하는 AI입니다.\n",
        "사용자가 과일에 대한 설명을 제공하면 각 과일에 대한 상세 정보를 추출하세요.\n",
        "\"\"\""
      ]
    },
    {
      "cell_type": "code",
      "execution_count": 33,
      "metadata": {
        "id": "TcGCz3K83DGy"
      },
      "outputs": [],
      "source": [
        "# 사전에 정의한 스키마(과일, 계절, 과일 개수, 출처)을 이용하여 API 호출 만들기\n",
        "response = client.responses.parse(\n",
        "    model=\"gpt-5-nano\",\n",
        "    input=[\n",
        "        {\n",
        "            \"role\": \"system\",\n",
        "            \"content\": system_prompt\n",
        "        },\n",
        "        {\n",
        "            \"role\": \"user\",\n",
        "            \"content\": user_prompt\n",
        "        }\n",
        "    ],\n",
        "    # JSON 스키마 지정\n",
        "    text_format=FruitList\n",
        ")"
      ]
    },
    {
      "cell_type": "code",
      "execution_count": 34,
      "metadata": {
        "id": "7Hd_33ec5bNd"
      },
      "outputs": [
        {
          "name": "stdout",
          "output_type": "stream",
          "text": [
            "{'fruits': [{'fruit_name': '사과', 'season': '연중'},\n",
            "            {'fruit_name': '배', 'season': '가을'},\n",
            "            {'fruit_name': '귤', 'season': '겨울'},\n",
            "            {'fruit_name': '포도', 'season': '여름-가을'},\n",
            "            {'fruit_name': '수박', 'season': '여름'},\n",
            "            {'fruit_name': '참외', 'season': '여름'},\n",
            "            {'fruit_name': '딸기', 'season': '봄'},\n",
            "            {'fruit_name': '감', 'season': '가을'},\n",
            "            {'fruit_name': '복숭아', 'season': '여름'}],\n",
            " 'num_of_fruits': 9,\n",
            " 'ref': '00뉴스'}\n"
          ]
        }
      ],
      "source": [
        "# 응답 출력\n",
        "from pprint import pprint\n",
        "\n",
        "parsed_data = json.loads(response.output_text)\n",
        "\n",
        "pprint(parsed_data)"
      ]
    },
    {
      "cell_type": "code",
      "execution_count": null,
      "metadata": {},
      "outputs": [],
      "source": []
    }
  ],
  "metadata": {
    "colab": {
      "provenance": [],
      "toc_visible": true
    },
    "kernelspec": {
      "display_name": "Python 3",
      "name": "python3"
    },
    "language_info": {
      "codemirror_mode": {
        "name": "ipython",
        "version": 3
      },
      "file_extension": ".py",
      "mimetype": "text/x-python",
      "name": "python",
      "nbconvert_exporter": "python",
      "pygments_lexer": "ipython3",
      "version": "3.11.9"
    }
  },
  "nbformat": 4,
  "nbformat_minor": 0
}
